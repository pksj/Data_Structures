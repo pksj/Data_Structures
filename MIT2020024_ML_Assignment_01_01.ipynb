{
  "nbformat": 4,
  "nbformat_minor": 0,
  "metadata": {
    "colab": {
      "name": "MIT2020024_ML_Assignment_01_01.ipynb",
      "provenance": [],
      "collapsed_sections": [],
      "authorship_tag": "ABX9TyONh5djQfcHtTdFAQT+F58W",
      "include_colab_link": true
    },
    "kernelspec": {
      "display_name": "Python 3",
      "name": "python3"
    }
  },
  "cells": [
    {
      "cell_type": "markdown",
      "metadata": {
        "id": "view-in-github",
        "colab_type": "text"
      },
      "source": [
        "<a href=\"https://colab.research.google.com/github/pksj/Data_Structures/blob/master/MIT2020024_ML_Assignment_01_01.ipynb\" target=\"_parent\"><img src=\"https://colab.research.google.com/assets/colab-badge.svg\" alt=\"Open In Colab\"/></a>"
      ]
    },
    {
      "cell_type": "code",
      "metadata": {
        "id": "ht7tkYi2y1fR"
      },
      "source": [
        "import numpy as np\r\n",
        "import math\r\n",
        "\r\n",
        "# just to get mnist dataset\r\n",
        "from keras.datasets import mnist\r\n",
        "\r\n",
        "\r\n",
        "mnist_dataset = mnist.load_data()\r\n",
        "print(len(mnist_dataset[0][0]))\r\n",
        "print(len(mnist_dataset[0][1]))\r\n",
        "print(len(mnist_dataset[1][0]))\r\n",
        "print(len(mnist_dataset[1][1]))"
      ],
      "execution_count": null,
      "outputs": []
    },
    {
      "cell_type": "markdown",
      "metadata": {
        "id": "0O86Wp174Klk"
      },
      "source": [
        "# 1.(a) Implement K-NN and Logistic regression algorithm from scratch and apply it on MNIST data set."
      ]
    },
    {
      "cell_type": "markdown",
      "metadata": {
        "id": "Qn1Tr8qp6maH"
      },
      "source": [
        "Gathering dataset and splitting into training and testing"
      ]
    },
    {
      "cell_type": "code",
      "metadata": {
        "id": "d7L6HJWs34LL"
      },
      "source": [
        "mnist_dataset = mnist.load_data()\r\n",
        "\r\n",
        "\r\n",
        "x_train = mnist_dataset[0][0]\r\n",
        "y_train = mnist_dataset[0][1]\r\n",
        "\r\n",
        "x_test = mnist_dataset[1][0]\r\n",
        "y_test = mnist_dataset[1][1]\r\n",
        "\r\n",
        "\r\n",
        "x_train = x_train[:5000]\r\n",
        "y_train = y_train[:5000]\r\n",
        "\r\n",
        "x_test = x_test[:10]\r\n",
        "y_test = y_test[:10]\r\n"
      ],
      "execution_count": 43,
      "outputs": []
    },
    {
      "cell_type": "markdown",
      "metadata": {
        "id": "xHPmv4sF60_N"
      },
      "source": [
        "Funciton to find distance between two images"
      ]
    },
    {
      "cell_type": "code",
      "metadata": {
        "id": "eMNvNTEq66s4"
      },
      "source": [
        "def image_distance(image_1, image_2):\r\n",
        "\r\n",
        "    image_shape = image_1.shape\r\n",
        "\r\n",
        "    distance_square = 0.\r\n",
        "\r\n",
        "    for row in range(image_shape[0]):\r\n",
        "        for column in range(image_shape[1]):\r\n",
        "\r\n",
        "            distance_square += (int(image_1[row][column]) - int(image_2[row][column]))**2\r\n",
        "\r\n",
        "    return math.sqrt(distance_square)  \r\n",
        "\r\n"
      ],
      "execution_count": 38,
      "outputs": []
    },
    {
      "cell_type": "markdown",
      "metadata": {
        "id": "uHHQyGLy3gJy"
      },
      "source": [
        "Function max_label\r\n",
        "\r\n",
        "used to find lable with maximum count "
      ]
    },
    {
      "cell_type": "code",
      "metadata": {
        "id": "geGbhEFK3t7Y"
      },
      "source": [
        "def max_label(labels):\r\n",
        "\r\n",
        "    frequency = [0] * 10\r\n",
        "\r\n",
        "    for label in labels:\r\n",
        "        frequency[label] += 1\r\n",
        "\r\n",
        "    max_index = 0\r\n",
        "\r\n",
        "    for i in range(1, 10):\r\n",
        "\r\n",
        "        if(frequency[i] > frequency[max_index]):\r\n",
        "\r\n",
        "            max_index = i\r\n",
        "\r\n",
        "    return max_index                \r\n"
      ],
      "execution_count": 39,
      "outputs": []
    },
    {
      "cell_type": "markdown",
      "metadata": {
        "id": "RpYvKv-C44tI"
      },
      "source": [
        "Function KNN_prediction"
      ]
    },
    {
      "cell_type": "code",
      "metadata": {
        "id": "RzIhgCUN5B7D"
      },
      "source": [
        "def KNN_prediction(k, x_train, y_train, test_image):\r\n",
        "\r\n",
        "    distance_with_labels = []\r\n",
        "\r\n",
        "    for image, label in zip(x_train, y_train):\r\n",
        "\r\n",
        "        ans = image_distance(image, test_image) , label\r\n",
        "\r\n",
        "        distance_with_labels.append(ans)\r\n",
        "\r\n",
        "    sorted(distance_with_labels)\r\n",
        "\r\n",
        "    k_neighbors = [label for image, label in distance_with_labels[0:k]]\r\n",
        "\r\n",
        "    return max_label(k_neighbors)\r\n",
        "\r\n"
      ],
      "execution_count": 40,
      "outputs": []
    },
    {
      "cell_type": "markdown",
      "metadata": {
        "id": "mQ3CogEn8zzW"
      },
      "source": [
        "Prediction on test data"
      ]
    },
    {
      "cell_type": "code",
      "metadata": {
        "colab": {
          "base_uri": "https://localhost:8080/"
        },
        "id": "YcanRc4J83T8",
        "outputId": "09e650e6-af02-42c1-99b5-464a7ebd39a7"
      },
      "source": [
        "correct_prediction = 0\r\n",
        "c = 0\r\n",
        "\r\n",
        "for image, label in zip(x_test, y_test):\r\n",
        "\r\n",
        "    print(c)\r\n",
        "    c += 1\r\n",
        "\r\n",
        "    if(KNN_prediction(10, x_train, y_train, image) == label):\r\n",
        "\r\n",
        "        correct_prediction += 1\r\n",
        "\r\n",
        "print(\"Accuracy = \", correct_prediction *100 / len(x_test))        "
      ],
      "execution_count": 44,
      "outputs": [
        {
          "output_type": "stream",
          "text": [
            "0\n",
            "1\n",
            "2\n",
            "3\n",
            "4\n",
            "5\n",
            "6\n",
            "7\n",
            "8\n",
            "9\n",
            "Accuracy =  20.0\n"
          ],
          "name": "stdout"
        }
      ]
    }
  ]
}